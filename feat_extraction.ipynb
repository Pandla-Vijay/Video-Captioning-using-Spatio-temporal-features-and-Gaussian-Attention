{
  "cells": [
    {
      "cell_type": "code",
      "execution_count": 1,
      "metadata": {
        "colab": {
          "base_uri": "https://localhost:8080/"
        },
        "id": "ViALym4cY80i",
        "outputId": "8f1faa8e-c7a1-4ff4-f210-817e4c6a798b"
      },
      "outputs": [
        {
          "output_type": "stream",
          "name": "stdout",
          "text": [
            "Mounted at /content/drive\n"
          ]
        }
      ],
      "source": [
        "from google.colab import drive\n",
        "drive.mount('/content/drive')"
      ]
    },
    {
      "cell_type": "code",
      "execution_count": 2,
      "metadata": {
        "colab": {
          "base_uri": "https://localhost:8080/"
        },
        "id": "01d3g66NZcAO",
        "outputId": "6d6b0c59-1792-4345-d73d-d0692f2f9b10"
      },
      "outputs": [
        {
          "output_type": "stream",
          "name": "stdout",
          "text": [
            "1970\n"
          ]
        }
      ],
      "source": [
        "import pickle\n",
        "\n",
        "with open('/content/drive/MyDrive/VIDEO CAPTIONING/video captioning/dict_youtube_mapping.pkl', 'rb') as f:\n",
        "    data = pickle.load(f)\n",
        "print(len(data))"
      ]
    },
    {
      "cell_type": "code",
      "execution_count": null,
      "metadata": {
        "id": "ac5WqYI9ZtFB"
      },
      "outputs": [],
      "source": [
        "!mkdir local_features1"
      ]
    },
    {
      "cell_type": "code",
      "execution_count": null,
      "metadata": {
        "id": "i5W4mtKMNjiI"
      },
      "outputs": [],
      "source": [
        "!mkdir motion_features1"
      ]
    },
    {
      "cell_type": "markdown",
      "metadata": {
        "id": "-_BbSUPnSk7Q"
      },
      "source": [
        "***Unzipping the PRE-EXTRACTED features of MSVD dataset from the fc7 LAYER OF FASTER R-CNN NETWORK and the number is 8***"
      ]
    },
    {
      "cell_type": "code",
      "execution_count": null,
      "metadata": {
        "id": "dg5cBhwPTDwK"
      },
      "outputs": [],
      "source": [
        "!unzip '/content/drive/MyDrive/VIDEO CAPTIONING/video captioning/rcnn8_msvd.zip'"
      ]
    },
    {
      "cell_type": "code",
      "execution_count": null,
      "metadata": {
        "id": "KqyrlgzXVRi9"
      },
      "outputs": [],
      "source": [
        "import shutil\n",
        "\n",
        "directory_path = '/content/motion_features1'\n",
        "\n",
        "# Delete all files in the directory\n",
        "shutil.rmtree(directory_path)\n"
      ]
    },
    {
      "cell_type": "markdown",
      "metadata": {
        "id": "3pnYj3tTUlo2"
      },
      "source": [
        "***Process the HDF5 files and saves them as .npy files in a ZIP format, later used after unzipping***"
      ]
    },
    {
      "cell_type": "code",
      "execution_count": null,
      "metadata": {
        "id": "icGIsIy2_sql"
      },
      "outputs": [],
      "source": [
        "import h5py\n",
        "import numpy as np\n",
        "\n",
        "def extract_local_features(save=False):\n",
        "  for i in range(1970):\n",
        "    idx = i+1\n",
        "    filename = '/content/home/sdc/tuyunbin/msvd/rcnn8/msvd_vid'+str(idx)+'_rcnn.h5'\n",
        "    vid = list(data.keys())[list(data.values()).index('vid'+str(idx))]\n",
        "    with h5py.File(filename, \"r\") as f:\n",
        "      a_group_key = list(f.keys())[0]\n",
        "      feature_vector = list(f[a_group_key])\n",
        "      feature_vector = np.array(feature_vector)\n",
        "      feature_vector = np.mean(feature_vector,axis=1)\n",
        "      if feature_vector.shape[0] < 28:\n",
        "        while feature_vector.shape[0] != 28:\n",
        "          feature_vector = np.concatenate((feature_vector,[feature_vector[-1]]))\n",
        "    feature_path='local_features1/'+vid+'.npy'\n",
        "    np.save(feature_path, feature_vector)\n",
        "\n",
        "    print(i,':',feature_vector.shape,',',vid)\n",
        "\n",
        "\n",
        "  if save is True:\n",
        "    !zip -r local_features1.zip local_features1\n",
        "    !cp 'local_features1.zip' '/content/drive/MyDrive/VIDEO CAPTIONING/video captioning/'"
      ]
    },
    {
      "cell_type": "markdown",
      "metadata": {
        "id": "NKaVbnb8VIgl"
      },
      "source": [
        "***Importing the necessary libraries***"
      ]
    },
    {
      "cell_type": "code",
      "execution_count": 4,
      "metadata": {
        "id": "lSe2XRzYNc3O"
      },
      "outputs": [],
      "source": [
        "import os\n",
        "import cv2\n",
        "import random\n",
        "import joblib\n",
        "import numpy as np\n",
        "import pandas as pd\n",
        "import tensorflow as tf\n",
        "import functools, operator\n",
        "from tensorflow.keras.preprocessing.text import Tokenizer\n",
        "from tensorflow.keras.preprocessing.sequence import pad_sequences\n",
        "from tensorflow.keras.applications.inception_v3 import InceptionV3"
      ]
    },
    {
      "cell_type": "markdown",
      "metadata": {
        "id": "b0GpVs0HVVfd"
      },
      "source": [
        "***Reading the .csv file from the original MSVD dataset***"
      ]
    },
    {
      "cell_type": "code",
      "execution_count": 3,
      "metadata": {
        "colab": {
          "base_uri": "https://localhost:8080/",
          "height": 424
        },
        "id": "CAu26eTDOHX1",
        "outputId": "cadb8942-86dc-4beb-ac46-72157b6acad3"
      },
      "outputs": [
        {
          "output_type": "execute_result",
          "data": {
            "text/plain": [
              "                VideoID                                       Description\n",
              "0      -4wsuPCjDBc_5_15       a squirrel is eating a peanut in it s shell\n",
              "1      -4wsuPCjDBc_5_15                              a chipmunk is eating\n",
              "2      -4wsuPCjDBc_5_15                     a chipmunk is eating a peanut\n",
              "3      -4wsuPCjDBc_5_15                        a chipmunk is eating a nut\n",
              "4      -4wsuPCjDBc_5_15                        a squirrel is eating a nut\n",
              "...                 ...                                               ...\n",
              "80783   zxB4dFJhHR8_1_9                           a girl riding a bicycle\n",
              "80784   zxB4dFJhHR8_1_9  a smiling girl wearing backpack is riding a bike\n",
              "80785   zxB4dFJhHR8_1_9               the girl rode her bike at the beach\n",
              "80786  zzit5b_-ukg_5_20                  a boy is doing exercise by cycle\n",
              "80787  zzit5b_-ukg_5_20                a boy is doing exercise on machine\n",
              "\n",
              "[80788 rows x 2 columns]"
            ],
            "text/html": [
              "\n",
              "\n",
              "  <div id=\"df-e0e6d73c-f97e-49ed-a865-ff18ecb8d154\">\n",
              "    <div class=\"colab-df-container\">\n",
              "      <div>\n",
              "<style scoped>\n",
              "    .dataframe tbody tr th:only-of-type {\n",
              "        vertical-align: middle;\n",
              "    }\n",
              "\n",
              "    .dataframe tbody tr th {\n",
              "        vertical-align: top;\n",
              "    }\n",
              "\n",
              "    .dataframe thead th {\n",
              "        text-align: right;\n",
              "    }\n",
              "</style>\n",
              "<table border=\"1\" class=\"dataframe\">\n",
              "  <thead>\n",
              "    <tr style=\"text-align: right;\">\n",
              "      <th></th>\n",
              "      <th>VideoID</th>\n",
              "      <th>Description</th>\n",
              "    </tr>\n",
              "  </thead>\n",
              "  <tbody>\n",
              "    <tr>\n",
              "      <th>0</th>\n",
              "      <td>-4wsuPCjDBc_5_15</td>\n",
              "      <td>a squirrel is eating a peanut in it s shell</td>\n",
              "    </tr>\n",
              "    <tr>\n",
              "      <th>1</th>\n",
              "      <td>-4wsuPCjDBc_5_15</td>\n",
              "      <td>a chipmunk is eating</td>\n",
              "    </tr>\n",
              "    <tr>\n",
              "      <th>2</th>\n",
              "      <td>-4wsuPCjDBc_5_15</td>\n",
              "      <td>a chipmunk is eating a peanut</td>\n",
              "    </tr>\n",
              "    <tr>\n",
              "      <th>3</th>\n",
              "      <td>-4wsuPCjDBc_5_15</td>\n",
              "      <td>a chipmunk is eating a nut</td>\n",
              "    </tr>\n",
              "    <tr>\n",
              "      <th>4</th>\n",
              "      <td>-4wsuPCjDBc_5_15</td>\n",
              "      <td>a squirrel is eating a nut</td>\n",
              "    </tr>\n",
              "    <tr>\n",
              "      <th>...</th>\n",
              "      <td>...</td>\n",
              "      <td>...</td>\n",
              "    </tr>\n",
              "    <tr>\n",
              "      <th>80783</th>\n",
              "      <td>zxB4dFJhHR8_1_9</td>\n",
              "      <td>a girl riding a bicycle</td>\n",
              "    </tr>\n",
              "    <tr>\n",
              "      <th>80784</th>\n",
              "      <td>zxB4dFJhHR8_1_9</td>\n",
              "      <td>a smiling girl wearing backpack is riding a bike</td>\n",
              "    </tr>\n",
              "    <tr>\n",
              "      <th>80785</th>\n",
              "      <td>zxB4dFJhHR8_1_9</td>\n",
              "      <td>the girl rode her bike at the beach</td>\n",
              "    </tr>\n",
              "    <tr>\n",
              "      <th>80786</th>\n",
              "      <td>zzit5b_-ukg_5_20</td>\n",
              "      <td>a boy is doing exercise by cycle</td>\n",
              "    </tr>\n",
              "    <tr>\n",
              "      <th>80787</th>\n",
              "      <td>zzit5b_-ukg_5_20</td>\n",
              "      <td>a boy is doing exercise on machine</td>\n",
              "    </tr>\n",
              "  </tbody>\n",
              "</table>\n",
              "<p>80788 rows × 2 columns</p>\n",
              "</div>\n",
              "      <button class=\"colab-df-convert\" onclick=\"convertToInteractive('df-e0e6d73c-f97e-49ed-a865-ff18ecb8d154')\"\n",
              "              title=\"Convert this dataframe to an interactive table.\"\n",
              "              style=\"display:none;\">\n",
              "\n",
              "  <svg xmlns=\"http://www.w3.org/2000/svg\" height=\"24px\"viewBox=\"0 0 24 24\"\n",
              "       width=\"24px\">\n",
              "    <path d=\"M0 0h24v24H0V0z\" fill=\"none\"/>\n",
              "    <path d=\"M18.56 5.44l.94 2.06.94-2.06 2.06-.94-2.06-.94-.94-2.06-.94 2.06-2.06.94zm-11 1L8.5 8.5l.94-2.06 2.06-.94-2.06-.94L8.5 2.5l-.94 2.06-2.06.94zm10 10l.94 2.06.94-2.06 2.06-.94-2.06-.94-.94-2.06-.94 2.06-2.06.94z\"/><path d=\"M17.41 7.96l-1.37-1.37c-.4-.4-.92-.59-1.43-.59-.52 0-1.04.2-1.43.59L10.3 9.45l-7.72 7.72c-.78.78-.78 2.05 0 2.83L4 21.41c.39.39.9.59 1.41.59.51 0 1.02-.2 1.41-.59l7.78-7.78 2.81-2.81c.8-.78.8-2.07 0-2.86zM5.41 20L4 18.59l7.72-7.72 1.47 1.35L5.41 20z\"/>\n",
              "  </svg>\n",
              "      </button>\n",
              "\n",
              "\n",
              "\n",
              "    <div id=\"df-2108d793-7616-4ca1-b483-daf8f34bc841\">\n",
              "      <button class=\"colab-df-quickchart\" onclick=\"quickchart('df-2108d793-7616-4ca1-b483-daf8f34bc841')\"\n",
              "              title=\"Suggest charts.\"\n",
              "              style=\"display:none;\">\n",
              "\n",
              "<svg xmlns=\"http://www.w3.org/2000/svg\" height=\"24px\"viewBox=\"0 0 24 24\"\n",
              "     width=\"24px\">\n",
              "    <g>\n",
              "        <path d=\"M19 3H5c-1.1 0-2 .9-2 2v14c0 1.1.9 2 2 2h14c1.1 0 2-.9 2-2V5c0-1.1-.9-2-2-2zM9 17H7v-7h2v7zm4 0h-2V7h2v10zm4 0h-2v-4h2v4z\"/>\n",
              "    </g>\n",
              "</svg>\n",
              "      </button>\n",
              "    </div>\n",
              "\n",
              "<style>\n",
              "  .colab-df-quickchart {\n",
              "    background-color: #E8F0FE;\n",
              "    border: none;\n",
              "    border-radius: 50%;\n",
              "    cursor: pointer;\n",
              "    display: none;\n",
              "    fill: #1967D2;\n",
              "    height: 32px;\n",
              "    padding: 0 0 0 0;\n",
              "    width: 32px;\n",
              "  }\n",
              "\n",
              "  .colab-df-quickchart:hover {\n",
              "    background-color: #E2EBFA;\n",
              "    box-shadow: 0px 1px 2px rgba(60, 64, 67, 0.3), 0px 1px 3px 1px rgba(60, 64, 67, 0.15);\n",
              "    fill: #174EA6;\n",
              "  }\n",
              "\n",
              "  [theme=dark] .colab-df-quickchart {\n",
              "    background-color: #3B4455;\n",
              "    fill: #D2E3FC;\n",
              "  }\n",
              "\n",
              "  [theme=dark] .colab-df-quickchart:hover {\n",
              "    background-color: #434B5C;\n",
              "    box-shadow: 0px 1px 3px 1px rgba(0, 0, 0, 0.15);\n",
              "    filter: drop-shadow(0px 1px 2px rgba(0, 0, 0, 0.3));\n",
              "    fill: #FFFFFF;\n",
              "  }\n",
              "</style>\n",
              "\n",
              "    <script>\n",
              "      async function quickchart(key) {\n",
              "        const containerElement = document.querySelector('#' + key);\n",
              "        const charts = await google.colab.kernel.invokeFunction(\n",
              "            'suggestCharts', [key], {});\n",
              "      }\n",
              "    </script>\n",
              "\n",
              "      <script>\n",
              "\n",
              "function displayQuickchartButton(domScope) {\n",
              "  let quickchartButtonEl =\n",
              "    domScope.querySelector('#df-2108d793-7616-4ca1-b483-daf8f34bc841 button.colab-df-quickchart');\n",
              "  quickchartButtonEl.style.display =\n",
              "    google.colab.kernel.accessAllowed ? 'block' : 'none';\n",
              "}\n",
              "\n",
              "        displayQuickchartButton(document);\n",
              "      </script>\n",
              "      <style>\n",
              "    .colab-df-container {\n",
              "      display:flex;\n",
              "      flex-wrap:wrap;\n",
              "      gap: 12px;\n",
              "    }\n",
              "\n",
              "    .colab-df-convert {\n",
              "      background-color: #E8F0FE;\n",
              "      border: none;\n",
              "      border-radius: 50%;\n",
              "      cursor: pointer;\n",
              "      display: none;\n",
              "      fill: #1967D2;\n",
              "      height: 32px;\n",
              "      padding: 0 0 0 0;\n",
              "      width: 32px;\n",
              "    }\n",
              "\n",
              "    .colab-df-convert:hover {\n",
              "      background-color: #E2EBFA;\n",
              "      box-shadow: 0px 1px 2px rgba(60, 64, 67, 0.3), 0px 1px 3px 1px rgba(60, 64, 67, 0.15);\n",
              "      fill: #174EA6;\n",
              "    }\n",
              "\n",
              "    [theme=dark] .colab-df-convert {\n",
              "      background-color: #3B4455;\n",
              "      fill: #D2E3FC;\n",
              "    }\n",
              "\n",
              "    [theme=dark] .colab-df-convert:hover {\n",
              "      background-color: #434B5C;\n",
              "      box-shadow: 0px 1px 3px 1px rgba(0, 0, 0, 0.15);\n",
              "      filter: drop-shadow(0px 1px 2px rgba(0, 0, 0, 0.3));\n",
              "      fill: #FFFFFF;\n",
              "    }\n",
              "  </style>\n",
              "\n",
              "      <script>\n",
              "        const buttonEl =\n",
              "          document.querySelector('#df-e0e6d73c-f97e-49ed-a865-ff18ecb8d154 button.colab-df-convert');\n",
              "        buttonEl.style.display =\n",
              "          google.colab.kernel.accessAllowed ? 'block' : 'none';\n",
              "\n",
              "        async function convertToInteractive(key) {\n",
              "          const element = document.querySelector('#df-e0e6d73c-f97e-49ed-a865-ff18ecb8d154');\n",
              "          const dataTable =\n",
              "            await google.colab.kernel.invokeFunction('convertToInteractive',\n",
              "                                                     [key], {});\n",
              "          if (!dataTable) return;\n",
              "\n",
              "          const docLinkHtml = 'Like what you see? Visit the ' +\n",
              "            '<a target=\"_blank\" href=https://colab.research.google.com/notebooks/data_table.ipynb>data table notebook</a>'\n",
              "            + ' to learn more about interactive tables.';\n",
              "          element.innerHTML = '';\n",
              "          dataTable['output_type'] = 'display_data';\n",
              "          await google.colab.output.renderOutput(dataTable, element);\n",
              "          const docLink = document.createElement('div');\n",
              "          docLink.innerHTML = docLinkHtml;\n",
              "          element.appendChild(docLink);\n",
              "        }\n",
              "      </script>\n",
              "    </div>\n",
              "  </div>\n"
            ]
          },
          "metadata": {},
          "execution_count": 3
        }
      ],
      "source": [
        "import pandas as pd\n",
        "df = pd.read_csv('/content/drive/MyDrive/VIDEO CAPTIONING/video captioning/data.csv')\n",
        "df"
      ]
    },
    {
      "cell_type": "code",
      "execution_count": null,
      "metadata": {
        "colab": {
          "base_uri": "https://localhost:8080/"
        },
        "id": "K8XmFnyBOOxe",
        "outputId": "b1cf1f0a-307e-4b9c-b666-1909d3da4ca6"
      },
      "outputs": [
        {
          "name": "stdout",
          "output_type": "stream",
          "text": [
            "1970\n"
          ]
        }
      ],
      "source": [
        "videoIDs = list(df.VideoID.unique())\n",
        "print(len(videoIDs))"
      ]
    },
    {
      "cell_type": "markdown",
      "metadata": {
        "id": "bGoimMGOVlGs"
      },
      "source": [
        "***GLOBAL FEATURE EXTRACTION***"
      ]
    },
    {
      "cell_type": "code",
      "execution_count": null,
      "metadata": {
        "id": "7J72KR3cOTHl"
      },
      "outputs": [],
      "source": [
        "def extract_frames_equally_spaced(frames, K):\n",
        "        n_frames = len(frames)\n",
        "        splits = np.array_split(range(n_frames), K)\n",
        "        idx_taken = [s[0] for s in splits]\n",
        "        sub_frames = []\n",
        "\n",
        "        for idx in idx_taken:\n",
        "          sub_frames.append(frames[idx])\n",
        "        return sub_frames\n",
        "\n",
        "def pad_frames(frames, limit, jpegs=False):\n",
        "        last_frame = frames[-1]\n",
        "        if jpegs:\n",
        "            frames_padded = frames + [last_frame]*(limit-len(frames))\n",
        "        else:\n",
        "            padding = np.asarray([last_frame * 0.]*(limit-len(frames)))\n",
        "            frames_padded = np.concatenate([frames, padding], axis=0)\n",
        "        return frames_padded\n",
        "\n",
        "def video_to_frames(input_loc,K,motion=False):\n",
        "    cap = cv2.VideoCapture(input_loc)\n",
        "\n",
        "    video_length = int(cap.get(cv2.CAP_PROP_FRAME_COUNT)) - 1\n",
        "    count = 0\n",
        "\n",
        "    if motion is True:\n",
        "      K = max(video_length,50)\n",
        "\n",
        "    frames=[]\n",
        "    while cap.isOpened():\n",
        "        ret, frame = cap.read()\n",
        "        if not ret:\n",
        "            continue\n",
        "        frames.append(frame)\n",
        "        count = count + 1\n",
        "\n",
        "        if (count > (video_length-1)):\n",
        "            cap.release()\n",
        "            break\n",
        "    if len(frames) < K:\n",
        "        frames = pad_frames(frames,K,True)\n",
        "    else:\n",
        "        frames = extract_frames_equally_spaced(frames,K)\n",
        "\n",
        "    return frames\n",
        "\n",
        "def resize_frames(frames):\n",
        "  new_frames = []\n",
        "  for frame in frames:\n",
        "    new_frame = cv2.resize(frame,(224,224))\n",
        "    new_frames.append(new_frame)\n",
        "\n",
        "  return new_frames\n",
        "\n",
        "K=28"
      ]
    },
    {
      "cell_type": "code",
      "execution_count": null,
      "metadata": {
        "id": "ufwUXEgmOs8o"
      },
      "outputs": [],
      "source": [
        "#Googlenet model\n",
        "def get_model():\n",
        "  i = tf.keras.layers.Input([224, 224, 3], dtype = tf.float32)\n",
        "  x = tf.keras.applications.inception_v3.preprocess_input(i)\n",
        "  model = InceptionV3(weights=\"imagenet\", include_top=False, input_shape=(224, 224, 3),pooling='avg')\n",
        "  out = model(x)\n",
        "  model=tf.keras.models.Model(inputs=[i], outputs=out)\n",
        "  return model\n"
      ]
    },
    {
      "cell_type": "code",
      "execution_count": 5,
      "metadata": {
        "colab": {
          "base_uri": "https://localhost:8080/"
        },
        "id": "7g5RK02sOxQ4",
        "outputId": "c25af275-c371-4eb0-8713-b750910b67b4"
      },
      "outputs": [
        {
          "output_type": "stream",
          "name": "stdout",
          "text": [
            "Number of files in '/content/drive/MyDrive/VIDEO CAPTIONING/video captioning/global_features': 1970\n"
          ]
        }
      ],
      "source": [
        "import os\n",
        "\n",
        "def count_files(directory):\n",
        "    file_count = 0\n",
        "    for _, _, files in os.walk(directory):\n",
        "        file_count += len(files)\n",
        "    return file_count\n",
        "\n",
        "# Example usage\n",
        "directory_path = '/content/drive/MyDrive/VIDEO CAPTIONING/video captioning/global_features'\n",
        "num_files = count_files(directory_path)\n",
        "print(f\"Number of files in '{directory_path}': {num_files}\")\n"
      ]
    },
    {
      "cell_type": "markdown",
      "metadata": {
        "id": "z72EZav1WNw-"
      },
      "source": [
        "***SHAPE OF THE GLOBAL FEATURES***"
      ]
    },
    {
      "cell_type": "code",
      "execution_count": null,
      "metadata": {
        "colab": {
          "base_uri": "https://localhost:8080/"
        },
        "id": "mE_TZBPgPabg",
        "outputId": "227d5307-ebbc-4294-a9f1-fbd67559c647"
      },
      "outputs": [
        {
          "name": "stdout",
          "output_type": "stream",
          "text": [
            "Shape of the .npy file: (28, 2048)\n"
          ]
        }
      ],
      "source": [
        "import numpy as np\n",
        "\n",
        "# Load the .npy file\n",
        "file_path = '/content/drive/MyDrive/VIDEO CAPTIONING/video captioning/global_features/-4wsuPCjDBc_5_15.npy'\n",
        "data = np.load(file_path)\n",
        "\n",
        "# Get the shape of the loaded data\n",
        "shape = data.shape\n",
        "\n",
        "print(f\"Shape of the .npy file: {shape}\")\n"
      ]
    },
    {
      "cell_type": "code",
      "execution_count": null,
      "metadata": {
        "colab": {
          "base_uri": "https://localhost:8080/"
        },
        "id": "swreYjAzPqk2",
        "outputId": "ac177340-e07a-40b4-d008-7398a297c3ac"
      },
      "outputs": [
        {
          "name": "stdout",
          "output_type": "stream",
          "text": [
            "Looking in indexes: https://pypi.org/simple, https://us-python.pkg.dev/colab-wheels/public/simple/\n",
            "Collecting sk-video\n",
            "  Downloading sk_video-1.1.10-py2.py3-none-any.whl (2.3 MB)\n",
            "\u001b[2K     \u001b[90m━━━━━━━━━━━━━━━━━━━━━━━━━━━━━━━━━━━━━━━━\u001b[0m \u001b[32m2.3/2.3 MB\u001b[0m \u001b[31m21.9 MB/s\u001b[0m eta \u001b[36m0:00:00\u001b[0m\n",
            "\u001b[?25hRequirement already satisfied: numpy in /usr/local/lib/python3.10/dist-packages (from sk-video) (1.22.4)\n",
            "Requirement already satisfied: scipy in /usr/local/lib/python3.10/dist-packages (from sk-video) (1.10.1)\n",
            "Installing collected packages: sk-video\n",
            "Successfully installed sk-video-1.1.10\n",
            "--2023-06-21 09:17:28--  https://drive.google.com/uc?id=1RC9trsgIo2OsM8dV7CPg73drqSRZMr8j&confirm=t\n",
            "Resolving drive.google.com (drive.google.com)... 74.125.141.113, 74.125.141.100, 74.125.141.138, ...\n",
            "Connecting to drive.google.com (drive.google.com)|74.125.141.113|:443... connected.\n",
            "HTTP request sent, awaiting response... 303 See Other\n",
            "Location: https://doc-0s-20-docs.googleusercontent.com/docs/securesc/ha0ro937gcuc7l7deffksulhg5h7mbp1/dbjo3h1maltsj10pcnbhkp32g4qij0bp/1687338975000/17228267550831568869/*/1RC9trsgIo2OsM8dV7CPg73drqSRZMr8j?uuid=87d55034-2dba-48c7-9db3-c0d9c38307f0 [following]\n",
            "Warning: wildcards not supported in HTTP.\n",
            "--2023-06-21 09:17:28--  https://doc-0s-20-docs.googleusercontent.com/docs/securesc/ha0ro937gcuc7l7deffksulhg5h7mbp1/dbjo3h1maltsj10pcnbhkp32g4qij0bp/1687338975000/17228267550831568869/*/1RC9trsgIo2OsM8dV7CPg73drqSRZMr8j?uuid=87d55034-2dba-48c7-9db3-c0d9c38307f0\n",
            "Resolving doc-0s-20-docs.googleusercontent.com (doc-0s-20-docs.googleusercontent.com)... 172.217.204.132, 2607:f8b0:400c:c15::84\n",
            "Connecting to doc-0s-20-docs.googleusercontent.com (doc-0s-20-docs.googleusercontent.com)|172.217.204.132|:443... connected.\n",
            "HTTP request sent, awaiting response... 200 OK\n",
            "Length: 3177 (3.1K) [text/x-python]\n",
            "Saving to: ‘c3d.py’\n",
            "\n",
            "c3d.py              100%[===================>]   3.10K  --.-KB/s    in 0s      \n",
            "\n",
            "2023-06-21 09:17:28 (31.8 MB/s) - ‘c3d.py’ saved [3177/3177]\n",
            "\n",
            "--2023-06-21 09:17:28--  https://drive.google.com/uc?id=1S49OSW2pCUPPD9F-763mG-aBx2gBOr2i&confirm=t\n",
            "Resolving drive.google.com (drive.google.com)... 74.125.141.113, 74.125.141.100, 74.125.141.138, ...\n",
            "Connecting to drive.google.com (drive.google.com)|74.125.141.113|:443... connected.\n",
            "HTTP request sent, awaiting response... 303 See Other\n",
            "Location: https://doc-0g-20-docs.googleusercontent.com/docs/securesc/ha0ro937gcuc7l7deffksulhg5h7mbp1/8uk7bckvbbmb9od6s3mfosr0v4arrcer/1687338975000/17228267550831568869/*/1S49OSW2pCUPPD9F-763mG-aBx2gBOr2i?uuid=17df2e06-3619-432b-a0a6-9c256864a99f [following]\n",
            "Warning: wildcards not supported in HTTP.\n",
            "--2023-06-21 09:17:28--  https://doc-0g-20-docs.googleusercontent.com/docs/securesc/ha0ro937gcuc7l7deffksulhg5h7mbp1/8uk7bckvbbmb9od6s3mfosr0v4arrcer/1687338975000/17228267550831568869/*/1S49OSW2pCUPPD9F-763mG-aBx2gBOr2i?uuid=17df2e06-3619-432b-a0a6-9c256864a99f\n",
            "Resolving doc-0g-20-docs.googleusercontent.com (doc-0g-20-docs.googleusercontent.com)... 172.217.204.132, 2607:f8b0:400c:c15::84\n",
            "Connecting to doc-0g-20-docs.googleusercontent.com (doc-0g-20-docs.googleusercontent.com)|172.217.204.132|:443... connected.\n",
            "HTTP request sent, awaiting response... 200 OK\n",
            "Length: 2318 (2.3K) [text/x-python]\n",
            "Saving to: ‘sports1M_utils.py’\n",
            "\n",
            "sports1M_utils.py   100%[===================>]   2.26K  --.-KB/s    in 0s      \n",
            "\n",
            "2023-06-21 09:17:29 (117 MB/s) - ‘sports1M_utils.py’ saved [2318/2318]\n",
            "\n"
          ]
        }
      ],
      "source": [
        "!pip install sk-video\n",
        "!wget -O 'c3d.py' 'https://drive.google.com/uc?id=1RC9trsgIo2OsM8dV7CPg73drqSRZMr8j&confirm=t'\n",
        "!wget -O 'sports1M_utils.py' 'https://drive.google.com/uc?id=1S49OSW2pCUPPD9F-763mG-aBx2gBOr2i&confirm=t'"
      ]
    },
    {
      "cell_type": "code",
      "execution_count": null,
      "metadata": {
        "id": "PywEM900P1JL"
      },
      "outputs": [],
      "source": [
        "!unzip '/content/drive/MyDrive/VIDEO CAPTIONING/video captioning/local_features1.zip'"
      ]
    },
    {
      "cell_type": "code",
      "execution_count": null,
      "metadata": {
        "colab": {
          "base_uri": "https://localhost:8080/"
        },
        "id": "Ib4aeiB5QjPn",
        "outputId": "df5cf3b2-3ae5-4ad6-dbfa-feaafdf38bc7"
      },
      "outputs": [
        {
          "name": "stdout",
          "output_type": "stream",
          "text": [
            "Number of files in '/content/local_features1': 1970\n"
          ]
        }
      ],
      "source": [
        "import os\n",
        "\n",
        "def count_files(directory):\n",
        "    file_count = 0\n",
        "    for _, _, files in os.walk(directory):\n",
        "        file_count += len(files)\n",
        "    return file_count\n",
        "\n",
        "# Example usage\n",
        "directory_path = '/content/local_features1'\n",
        "num_files = count_files(directory_path)\n",
        "print(f\"Number of files in '{directory_path}': {num_files}\")\n"
      ]
    },
    {
      "cell_type": "markdown",
      "metadata": {
        "id": "ZLo75T9aWjBq"
      },
      "source": [
        "***SHAPE OF THE LOCAL FEATURES***"
      ]
    },
    {
      "cell_type": "code",
      "execution_count": null,
      "metadata": {
        "colab": {
          "base_uri": "https://localhost:8080/"
        },
        "id": "V_eQkmZ3QxsW",
        "outputId": "192d04d1-e74f-4e1e-e7c7-70ab8f63dd96"
      },
      "outputs": [
        {
          "name": "stdout",
          "output_type": "stream",
          "text": [
            "Shape of the .npy file: (28, 4096)\n"
          ]
        }
      ],
      "source": [
        "import numpy as np\n",
        "\n",
        "# Load the .npy file\n",
        "file_path = '/content/local_features1/-4wsuPCjDBc_5_15.npy'\n",
        "data = np.load(file_path)\n",
        "\n",
        "# Get the shape of the loaded data\n",
        "shape = data.shape\n",
        "\n",
        "print(f\"Shape of the .npy file: {shape}\")\n"
      ]
    },
    {
      "cell_type": "code",
      "execution_count": null,
      "metadata": {
        "id": "nQK6T8EyXcWI"
      },
      "outputs": [],
      "source": [
        "!mkdir motion_features1"
      ]
    },
    {
      "cell_type": "markdown",
      "metadata": {
        "id": "pF9LyFZ8fR4q"
      },
      "source": [
        "***PROCESSING THE MOTION FEATURES***"
      ]
    },
    {
      "cell_type": "code",
      "execution_count": null,
      "metadata": {
        "id": "dqRIlaChRuMd"
      },
      "outputs": [],
      "source": [
        "import h5py\n",
        "import numpy as np\n",
        "\n",
        "def extract_motion_features(save=False):\n",
        "  for i in range(1970):\n",
        "    idx = i+1\n",
        "    filename = '/content/drive/MyDrive/VIDEO CAPTIONING/video captioning/c3d_h5/msvd_vid'+str(idx)+'_c3d.h5'\n",
        "    vid = list(data.keys())[list(data.values()).index('vid'+str(idx))]\n",
        "    with h5py.File(filename, \"r\") as f:\n",
        "      a_group_key = list(f.keys())[0]\n",
        "      feature_vector = list(f[a_group_key])\n",
        "      feature_vector = np.array(feature_vector)\n",
        "      #feature_vector = np.mean(feature_vector,axis=1)\n",
        "      if feature_vector.shape[0] < 28:\n",
        "        while feature_vector.shape[0] != 28:\n",
        "          feature_vector = np.concatenate((feature_vector,[feature_vector[-1]]))\n",
        "          # print(feature_vector.shape,feature_vector)\n",
        "      if feature_vector.shape[0] > 28:\n",
        "        while feature_vector.shape[0] != 28:\n",
        "          feature_vector = feature_vector[:28][:]\n",
        "    feature_path='/content/motion_features1/'+vid+'.npy'\n",
        "    np.save(feature_path, feature_vector)\n",
        "\n",
        "    print(i,':',feature_vector.shape,',',vid)\n",
        "\n",
        "\n",
        "  if save is True:\n",
        "    !zip -r motion_features1.zip motion_features1\n",
        "    !cp 'motion_features1.zip' '/content/drive/MyDrive/VIDEO CAPTIONING/video captioning/'"
      ]
    },
    {
      "cell_type": "code",
      "execution_count": null,
      "metadata": {
        "id": "QkQXB7-gYX1b"
      },
      "outputs": [],
      "source": [
        "extract_motion_features(save=True)"
      ]
    }
  ],
  "metadata": {
    "accelerator": "GPU",
    "colab": {
      "provenance": []
    },
    "kernelspec": {
      "display_name": "Python 3",
      "name": "python3"
    },
    "language_info": {
      "name": "python"
    }
  },
  "nbformat": 4,
  "nbformat_minor": 0
}